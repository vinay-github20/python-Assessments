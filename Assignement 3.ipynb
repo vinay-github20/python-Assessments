{
 "cells": [
  {
   "cell_type": "markdown",
   "metadata": {},
   "source": [
    "# Task - 1 problem - 1"
   ]
  },
  {
   "cell_type": "code",
   "execution_count": 13,
   "metadata": {},
   "outputs": [
    {
     "name": "stdout",
     "output_type": "stream",
     "text": [
      "Enter any integer: fgfg\n",
      "invalid literal for int() with base 10: 'fgfg'\n",
      "\n",
      "Enter any integer: ghgh\n",
      "invalid literal for int() with base 10: 'ghgh'\n",
      "\n",
      "Enter any integer: 2\n",
      "...Given input value is integer... \n",
      "\n",
      "Value of x:  2.5\n"
     ]
    }
   ],
   "source": [
    "def div(a): # function creation\n",
    "    \n",
    "    try:\n",
    "        x = 5 / a\n",
    "        print(\"Value of x: \",x)\n",
    "    except:\n",
    "        print(\"Input value is given as zero, which is not divisiable by zero.\")\n",
    "\n",
    "while True:\n",
    "    try :\n",
    "        value = int(input(\"Enter any integer: \"))\n",
    "    except (ValueError) as e:\n",
    "        print(e)\n",
    "        print()\n",
    "        continue\n",
    "    else:\n",
    "        print(\"...Given input value is integer... \")\n",
    "        print()\n",
    "        break\n",
    "    \n",
    "# calling function\n",
    "div(value)    "
   ]
  },
  {
   "cell_type": "markdown",
   "metadata": {},
   "source": [
    "# Task - 1 problem - 2"
   ]
  },
  {
   "cell_type": "code",
   "execution_count": 15,
   "metadata": {},
   "outputs": [
    {
     "name": "stdout",
     "output_type": "stream",
     "text": [
      "Given No.of list as Input:  ['Americans', 'Indians'] ['play', 'watch'] ['Basketball', 'Cricket']\n",
      "Americans play Basketball\n",
      "Americans play Cricket\n",
      "Americans watch Basketball\n",
      "Americans watch Cricket\n",
      "Indians play Basketball\n",
      "Indians play Cricket\n",
      "Indians watch Basketball\n",
      "Indians watch Cricket\n"
     ]
    }
   ],
   "source": [
    "subject = [\"Americans\", \"Indians\"]\n",
    "verbs = [\"play\", \"watch\"]\n",
    "objects = [\"Basketball\", \"Cricket\"]\n",
    "\n",
    "print(\"Given No.of list as Input: \",subject, verbs, objects)\n",
    "for r in subject:\n",
    "    for k in verbs:\n",
    "        for l in objects:\n",
    "            print(r+\" \"+k+\" \"+l)"
   ]
  },
  {
   "cell_type": "markdown",
   "metadata": {},
   "source": [
    "# Task - 2 problem - 1"
   ]
  },
  {
   "cell_type": "code",
   "execution_count": 17,
   "metadata": {},
   "outputs": [
    {
     "name": "stdout",
     "output_type": "stream",
     "text": [
      "Given array as input:  [1 2 3 5]\n",
      "\n",
      "No of columns in output matrix should be:  3\n",
      "\n",
      "A.T.VanderMonde Matrix generation by input array in decreasing order: \n",
      " [[ 1  1  1]\n",
      " [ 4  2  1]\n",
      " [ 9  3  1]\n",
      " [25  5  1]]\n"
     ]
    }
   ],
   "source": [
    "import numpy as np\n",
    "\n",
    "def my_vander_gen(input_vector, N, increasing): # function definition \n",
    "    \n",
    "    if increasing == False: # condition to give outpu in decreasing order\n",
    "        opt_matrix = np.array([ind ** (N - 1 - i) for ind in input_vector for i in range(N)]).reshape(input_vector.size, N)\n",
    "    else:\n",
    "        opt_matrix = np.array([ind ** i for ind in input_vector for i in range(N)]).reshape(input_vector.size, N)\n",
    "    \n",
    "    return opt_matrix\n",
    "    \n",
    "input_vector = np.array([1,2,3,5]) # input array\n",
    "N = 3  # power to give element wise \n",
    "out_matrix_dec = my_vander_gen(input_vector, N, False) # calling function\n",
    "\n",
    "print(\"Given array as input: \",input_vector)\n",
    "print(\"\\nNo of columns in output matrix should be: \",N)\n",
    "print(\"\\nA.T.VanderMonde Matrix generation by input array in decreasing order: \\n\",out_matrix_dec)"
   ]
  }
 ],
 "metadata": {
  "kernelspec": {
   "display_name": "Python 3",
   "language": "python",
   "name": "python3"
  },
  "language_info": {
   "codemirror_mode": {
    "name": "ipython",
    "version": 3
   },
   "file_extension": ".py",
   "mimetype": "text/x-python",
   "name": "python",
   "nbconvert_exporter": "python",
   "pygments_lexer": "ipython3",
   "version": "3.7.7"
  }
 },
 "nbformat": 4,
 "nbformat_minor": 4
}
