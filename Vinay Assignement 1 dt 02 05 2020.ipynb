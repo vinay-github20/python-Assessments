{
 "cells": [
  {
   "cell_type": "markdown",
   "metadata": {},
   "source": [
    "# Task 1\n",
    "\n",
    "1. Install Jupyter notebook and run the first program and share the screenshot of the output."
   ]
  },
  {
   "cell_type": "code",
   "execution_count": 1,
   "metadata": {},
   "outputs": [
    {
     "name": "stdout",
     "output_type": "stream",
     "text": [
      "Dear Sudhanshu sir/Team iNueron !\n",
      " Myself Vinay \n",
      "Executing my First programme. Here !. of Task - 1 with jupiter Notebook\n",
      "Thank you for Giving me this opportunity.\n"
     ]
    }
   ],
   "source": [
    "print('Dear Sudhanshu sir/Team iNueron. !')\n",
    "print(\" Myself Vinay \")\n",
    "print('Executing my First programme. Here !. of Task - 1 with jupiter Notebook')\n",
    "print('Thank you for Giving me this opportunity.')"
   ]
  },
  {
   "cell_type": "markdown",
   "metadata": {},
   "source": [
    "2. Write a program which will find all such numbers which are divisible by 7 but are not a multiple\n",
    "   of 5, between 2000 and 3200 (both included). The numbers obtained should be printed in a\n",
    "   comma-separated sequence on a single line."
   ]
  },
  {
   "cell_type": "code",
   "execution_count": 16,
   "metadata": {},
   "outputs": [
    {
     "name": "stdout",
     "output_type": "stream",
     "text": [
      "[2002, 2009, 2016, 2023, 2037, 2044, 2051, 2058, 2072, 2079, 2086, 2093, 2107, 2114, 2121, 2128, 2142, 2149, 2156, 2163, 2177, 2184, 2191, 2198, 2212, 2219, 2226, 2233, 2247, 2254, 2261, 2268, 2282, 2289, 2296, 2303, 2317, 2324, 2331, 2338, 2352, 2359, 2366, 2373, 2387, 2394, 2401, 2408, 2422, 2429, 2436, 2443, 2457, 2464, 2471, 2478, 2492, 2499, 2506, 2513, 2527, 2534, 2541, 2548, 2562, 2569, 2576, 2583, 2597, 2604, 2611, 2618, 2632, 2639, 2646, 2653, 2667, 2674, 2681, 2688, 2702, 2709, 2716, 2723, 2737, 2744, 2751, 2758, 2772, 2779, 2786, 2793, 2807, 2814, 2821, 2828, 2842, 2849, 2856, 2863, 2877, 2884, 2891, 2898, 2912, 2919, 2926, 2933, 2947, 2954, 2961, 2968, 2982, 2989, 2996, 3003, 3017, 3024, 3031, 3038, 3052, 3059, 3066, 3073, 3087, 3094, 3101, 3108, 3122, 3129, 3136, 3143, 3157, 3164, 3171, 3178, 3192, 3199]\n"
     ]
    }
   ],
   "source": [
    "nums = []\n",
    "\n",
    "for ind in range(2000,3200):\n",
    "    if (ind%7 == 0) and (ind%5 != 0):\n",
    "        nums.append(ind)\n",
    "    \n",
    "print(nums)"
   ]
  },
  {
   "cell_type": "markdown",
   "metadata": {},
   "source": [
    "3. Write a Python program to accept the user's first and last name and then getting them printed in\n",
    "   the the reverse order with a space between first name and last name."
   ]
  },
  {
   "cell_type": "code",
   "execution_count": 1,
   "metadata": {},
   "outputs": [
    {
     "name": "stdout",
     "output_type": "stream",
     "text": [
      "Enter First Name: vinay\n",
      "Enter Last Name: teja\n",
      "teja vinay\n"
     ]
    }
   ],
   "source": [
    "F_Name = input('Enter First Name: ')\n",
    "L_Name = input('Enter Last Name: ')\n",
    "\n",
    "print(L_Name+' '+F_Name)\n",
    "\n",
    "#print(User_Name[-1::-1])"
   ]
  },
  {
   "cell_type": "markdown",
   "metadata": {},
   "source": [
    "4. Write a Python program to find the volume of a sphere with diameter 12 cm.\n",
    "    Formula: V=4/3 * π * r ^3"
   ]
  },
  {
   "cell_type": "code",
   "execution_count": 81,
   "metadata": {},
   "outputs": [
    {
     "name": "stdout",
     "output_type": "stream",
     "text": [
      "Volume of a sphere=  904.3199999999999\n"
     ]
    }
   ],
   "source": [
    "dia = 12\n",
    "pi = 3.14 \n",
    "radius = dia / 2\n",
    "\n",
    "volume = (4/3) * pi * radius ** 3\n",
    "\n",
    "print(\"Volume of a sphere= \",volume)"
   ]
  },
  {
   "cell_type": "markdown",
   "metadata": {},
   "source": [
    "# Task - 2"
   ]
  },
  {
   "cell_type": "markdown",
   "metadata": {},
   "source": [
    "1. Write a program which accepts a sequence of comma-separated numbers from console and\n",
    "    generate a list."
   ]
  },
  {
   "cell_type": "code",
   "execution_count": 3,
   "metadata": {},
   "outputs": [
    {
     "name": "stdout",
     "output_type": "stream",
     "text": [
      "Enter some comma-separated numbers: 1,2,3,4\n",
      "List=  ['1', '2', '3', '4']\n"
     ]
    }
   ],
   "source": [
    "Input_Num = input('Enter some comma-separated numbers: ')\n",
    "nums = Input_Num.split(',')\n",
    "\n",
    "print(\"List= \",nums)"
   ]
  },
  {
   "cell_type": "markdown",
   "metadata": {},
   "source": [
    "2. Create the below pattern using nested for loop in Python.\n",
    "        *\n",
    "        * *\n",
    "        * * *\n",
    "        * * * *\n",
    "        * * * * *\n",
    "        * * * *\n",
    "        * * *\n",
    "        * *\n",
    "        *"
   ]
  },
  {
   "cell_type": "code",
   "execution_count": 4,
   "metadata": {},
   "outputs": [
    {
     "name": "stdout",
     "output_type": "stream",
     "text": [
      "* \n",
      "* * \n",
      "* * * \n",
      "* * * * \n",
      "* * * * * \n",
      "* * * * \n",
      "* * * \n",
      "* * \n",
      "* \n"
     ]
    }
   ],
   "source": [
    "for k in range(0,5):\n",
    "    print('*',end=' ')\n",
    "    for j in range(0,k):\n",
    "        print('*',end=' ')\n",
    "    print()\n",
    "    \n",
    "for m in range(0,4):\n",
    "    print('*',end=' ')\n",
    "    for n in range(0,3-m):\n",
    "        print('*',end=' ')\n",
    "    print()"
   ]
  },
  {
   "cell_type": "markdown",
   "metadata": {},
   "source": [
    "3. Write a Python program to reverse a word after accepting the input from the user.\n",
    "    \n",
    "    ##### Sample Output:\n",
    "    \n",
    "    Input word: AcadGild\n",
    "   \n",
    "   Output: dliGdacA"
   ]
  },
  {
   "cell_type": "code",
   "execution_count": 84,
   "metadata": {},
   "outputs": [
    {
     "name": "stdout",
     "output_type": "stream",
     "text": [
      "Input word: AcadGild\n",
      "Output:  dliGdacA\n"
     ]
    }
   ],
   "source": [
    "Input_Word = input(\"Input word: \")\n",
    "\n",
    "print('Output: ',Input_Word[-1::-1])"
   ]
  },
  {
   "cell_type": "markdown",
   "metadata": {},
   "source": [
    "4. Write a Python Program to print the given string in the format specified in the sample output.\n",
    "            \n",
    "            WE, THE PEOPLE OF INDIA, having solemnly resolved to constitute India into a\n",
    "            SOVEREIGN, SOCIALIST, SECULAR, DEMOCRATIC REPUBLIC and to secure to all\n",
    "            its citizens\n",
    "##### Sample Output:\n",
    "\n",
    "            WE, THE PEOPLE OF INDIA,\n",
    "            having solemnly resolved to constitute India into a SOVEREIGN, !\n",
    "            SOCIALIST, SECULAR, DEMOCRATIC REPUBLIC\n",
    "            and to secure to all its citizens"
   ]
  },
  {
   "cell_type": "code",
   "execution_count": 80,
   "metadata": {},
   "outputs": [
    {
     "name": "stdout",
     "output_type": "stream",
     "text": [
      "WE, THE PEOPLE OF INDIA\n",
      "having solemenly resolved to constitute India into a SOVEREIGN, !\n",
      "SOCIALIST, SECULAR, DEMOCRATIC REPUBLIC\n",
      "and to secure to all its citizens\n"
     ]
    }
   ],
   "source": [
    "print(\"WE, THE PEOPLE OF INDIA\\nhaving solemenly resolved to constitute India into a SOVEREIGN, !\\nSOCIALIST, SECULAR, DEMOCRATIC REPUBLIC\\nand to secure to all its citizens\")"
   ]
  }
 ],
 "metadata": {
  "kernelspec": {
   "display_name": "Python 3",
   "language": "python",
   "name": "python3"
  },
  "language_info": {
   "codemirror_mode": {
    "name": "ipython",
    "version": 3
   },
   "file_extension": ".py",
   "mimetype": "text/x-python",
   "name": "python",
   "nbconvert_exporter": "python",
   "pygments_lexer": "ipython3",
   "version": "3.7.7"
  }
 },
 "nbformat": 4,
 "nbformat_minor": 4
}
