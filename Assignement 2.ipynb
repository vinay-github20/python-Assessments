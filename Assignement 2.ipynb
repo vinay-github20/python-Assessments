{
 "cells": [
  {
   "cell_type": "markdown",
   "metadata": {},
   "source": [
    "# Task 1 problem 1.1"
   ]
  },
  {
   "cell_type": "code",
   "execution_count": 36,
   "metadata": {},
   "outputs": [
    {
     "data": {
      "text/plain": [
       "28"
      ]
     },
     "execution_count": 36,
     "metadata": {},
     "output_type": "execute_result"
    }
   ],
   "source": [
    "def my_reduce(lst):\n",
    "    \n",
    "    if len(lst)%2 != 0:\n",
    "        print(\"Entered list sequence is not equivalent \")\n",
    "    else:\n",
    "        y = 0\n",
    "        for v in lst:\n",
    "            y = y + v\n",
    "    return y\n",
    "\n",
    "lst = [2,4,3,6,5,8]\n",
    "my_reduce(lst)"
   ]
  },
  {
   "cell_type": "markdown",
   "metadata": {},
   "source": [
    "# Task 1 problem 1.2"
   ]
  },
  {
   "cell_type": "code",
   "execution_count": 15,
   "metadata": {},
   "outputs": [
    {
     "name": "stdout",
     "output_type": "stream",
     "text": [
      "Even numbers are:  [2, 4, 6, 8]\n"
     ]
    }
   ],
   "source": [
    "def my_filter(nums):\n",
    "    even_nums = []\n",
    "    for t in nums:\n",
    "        if t%2 == 0:\n",
    "            even_nums.append(t)\n",
    "    return even_nums\n",
    "\n",
    "nums = [2,3,4,5,6,7,8,9]\n",
    "print(\"Even numbers are: \",my_filter(nums))"
   ]
  },
  {
   "cell_type": "markdown",
   "metadata": {},
   "source": [
    "# Task 1 problem 2"
   ]
  },
  {
   "cell_type": "code",
   "execution_count": 66,
   "metadata": {},
   "outputs": [
    {
     "data": {
      "text/plain": [
       "['A', 'C', 'A', 'D', 'G', 'I', 'L', 'D']"
      ]
     },
     "execution_count": 66,
     "metadata": {},
     "output_type": "execute_result"
    }
   ],
   "source": [
    "#1. list comprehension\n",
    "[apl for apl in 'ACADGILD']"
   ]
  },
  {
   "cell_type": "code",
   "execution_count": 26,
   "metadata": {},
   "outputs": [
    {
     "data": {
      "text/plain": [
       "['x', 'xx', 'xxx', 'xxxx', 'y', 'yy', 'yyy', 'yyyy', 'z', 'zz', 'zzz', 'zzzz']"
      ]
     },
     "execution_count": 26,
     "metadata": {},
     "output_type": "execute_result"
    }
   ],
   "source": [
    "#2. list comprehension\n",
    "[(val*n) for val in ['x','y','z'] for n in range(1,5)]"
   ]
  },
  {
   "cell_type": "code",
   "execution_count": 51,
   "metadata": {},
   "outputs": [
    {
     "data": {
      "text/plain": [
       "[('x', 'y', 'z'),\n",
       " ('xx', 'yy', 'zz'),\n",
       " ('xxx', 'yyy', 'zzz'),\n",
       " ('xxxx', 'yyyy', 'zzzz')]"
      ]
     },
     "execution_count": 51,
     "metadata": {},
     "output_type": "execute_result"
    }
   ],
   "source": [
    "#3. list comprehension\n",
    "[('x'*i,'y'*i,'z'*i) for i in range(1,5)]"
   ]
  },
  {
   "cell_type": "code",
   "execution_count": 108,
   "metadata": {},
   "outputs": [
    {
     "data": {
      "text/plain": [
       "[([2], [3], [4]), ([3], [4], [5]), ([4], [5], [6])]"
      ]
     },
     "execution_count": 108,
     "metadata": {},
     "output_type": "execute_result"
    }
   ],
   "source": [
    "#4. list comprehension\n",
    "[([l],[l+1],[l+2])  for l in [2,3,4]]"
   ]
  },
  {
   "cell_type": "code",
   "execution_count": 109,
   "metadata": {},
   "outputs": [
    {
     "data": {
      "text/plain": [
       "[[2, 3, 4, 5], [3, 4, 5, 6], [4, 5, 6, 7], [5, 6, 7, 8]]"
      ]
     },
     "execution_count": 109,
     "metadata": {},
     "output_type": "execute_result"
    }
   ],
   "source": [
    "#5. list comprehension\n",
    "[[j,j+1,j+2,j+3] for j in [2,3,4,5]]"
   ]
  },
  {
   "cell_type": "code",
   "execution_count": 113,
   "metadata": {},
   "outputs": [
    {
     "data": {
      "text/plain": [
       "[(1, 1), (2, 1), (3, 1), (1, 2), (2, 2), (3, 2), (1, 3), (2, 3), (3, 3)]"
      ]
     },
     "execution_count": 113,
     "metadata": {},
     "output_type": "execute_result"
    }
   ],
   "source": [
    "#6. list comprehension\n",
    "[(num,s) for s in [1,2,3] for num in range(1,4)]"
   ]
  },
  {
   "cell_type": "markdown",
   "metadata": {},
   "source": [
    "# Task 1 problem 3"
   ]
  },
  {
   "cell_type": "code",
   "execution_count": 118,
   "metadata": {},
   "outputs": [
    {
     "name": "stdout",
     "output_type": "stream",
     "text": [
      "programming\n"
     ]
    }
   ],
   "source": [
    "def longestword(mystr):\n",
    "    nxt_str = mystr[0]\n",
    "    for nxt in mystr:\n",
    "        if len(nxt) > len(nxt_str):\n",
    "            nxt_str = nxt\n",
    "            \n",
    "    return nxt_str \n",
    "\n",
    "mystr = (\"Hi\",\"Sudhanshu.\",\"My\",\"name\",\"is\",\"vinay.\",\"Thank\",\"you\",\"for\",\"Teaching\",\"python\",\"programming\",\"Language\")\n",
    "print(longestword(mystr))"
   ]
  },
  {
   "cell_type": "markdown",
   "metadata": {},
   "source": [
    "# Task 2 problem 1.1"
   ]
  },
  {
   "cell_type": "code",
   "execution_count": 3,
   "metadata": {},
   "outputs": [
    {
     "name": "stdout",
     "output_type": "stream",
     "text": [
      "Area of Triangel =  66.93280212272605\n"
     ]
    }
   ],
   "source": [
    "class Triangle():\n",
    "    def __init__(self, len_sides):\n",
    "        self.len_sides = len_sides\n",
    "        \n",
    "class Calc_A_Triangle(Triangle):\n",
    "    def __init__(self, a, b, c, *args):\n",
    "        super(Calc_A_Triangle, self).__init__(*args)\n",
    "        self.a = a\n",
    "        self.b = b\n",
    "        self.c = c\n",
    "    \n",
    "    def Calc_Area(self):\n",
    "        return (self.len_sides*(self.len_sides - self.a)*(self.len_sides - self.b)*(self.len_sides - self.c)) ** 0.5\n",
    "    \n",
    "Area = Calc_A_Triangle(2,2,3,10)\n",
    "print(\"Area of Triangel = \",Area.Calc_Area())"
   ]
  },
  {
   "cell_type": "markdown",
   "metadata": {},
   "source": [
    "# Task 2 problem 1.2"
   ]
  },
  {
   "cell_type": "code",
   "execution_count": 113,
   "metadata": {},
   "outputs": [
    {
     "name": "stdout",
     "output_type": "stream",
     "text": [
      "['Teaching', 'programming', 'language', 'sudhanshu', 'Excellent!']\n"
     ]
    }
   ],
   "source": [
    "def filter_long_words(mywords, n):\n",
    "    nxt_word = [ ]\n",
    "    for ind in mywords:\n",
    "        if len(ind) > n:\n",
    "            nxt_word.append(ind)\n",
    "            \n",
    "    return nxt_word\n",
    "\n",
    "mywords = [\"Teaching\",\"python\",\"programming\",\"language\",\"by\",\"sudhanshu\",\"is\",\"Excellent!\"]\n",
    "n = 6\n",
    "print(filter_long_words(mywords,n))"
   ]
  },
  {
   "cell_type": "markdown",
   "metadata": {},
   "source": [
    "# Task 2 problem 2.1"
   ]
  },
  {
   "cell_type": "code",
   "execution_count": 126,
   "metadata": {},
   "outputs": [
    {
     "name": "stdout",
     "output_type": "stream",
     "text": [
      "[2, 3, 4]\n"
     ]
    }
   ],
   "source": [
    "def len_corres_word(words):\n",
    "    len_words = []\n",
    "    for l_word in words:\n",
    "        len_words.append(len(l_word))\n",
    "                \n",
    "    return len_words\n",
    "\n",
    "lst_words = ['ab','cde','erty']\n",
    "print(len_corres_word(lst_words))\n"
   ]
  },
  {
   "cell_type": "markdown",
   "metadata": {},
   "source": [
    "# Task 2 problem 2.2"
   ]
  },
  {
   "cell_type": "code",
   "execution_count": 1,
   "metadata": {},
   "outputs": [
    {
     "name": "stdout",
     "output_type": "stream",
     "text": [
      "True\n"
     ]
    }
   ],
   "source": [
    "def vowels(str1):\n",
    "    \n",
    "    vow = ('a','e','i','o','u')\n",
    "    for count in vow:\n",
    "        if count == str1 :\n",
    "            return True\n",
    "    else:\n",
    "        return False\n",
    "\n",
    "sol = vowels('i')\n",
    "print(sol)"
   ]
  }
 ],
 "metadata": {
  "kernelspec": {
   "display_name": "Python 3",
   "language": "python",
   "name": "python3"
  },
  "language_info": {
   "codemirror_mode": {
    "name": "ipython",
    "version": 3
   },
   "file_extension": ".py",
   "mimetype": "text/x-python",
   "name": "python",
   "nbconvert_exporter": "python",
   "pygments_lexer": "ipython3",
   "version": "3.7.7"
  }
 },
 "nbformat": 4,
 "nbformat_minor": 4
}
